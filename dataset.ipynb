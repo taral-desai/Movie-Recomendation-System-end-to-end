{
 "metadata": {
  "language_info": {
   "codemirror_mode": {
    "name": "ipython",
    "version": 3
   },
   "file_extension": ".py",
   "mimetype": "text/x-python",
   "name": "python",
   "nbconvert_exporter": "python",
   "pygments_lexer": "ipython3",
   "version": "3.9.1"
  },
  "orig_nbformat": 2,
  "kernelspec": {
   "name": "python3",
   "display_name": "Python 3.9.1 64-bit ('venv': venv)",
   "metadata": {
    "interpreter": {
     "hash": "f7651a8189a46ae8868a419f663f5166c59fa60b9320ec59da6a4bbac0f96796"
    }
   }
  }
 },
 "nbformat": 4,
 "nbformat_minor": 2,
 "cells": [
  {
   "cell_type": "code",
   "execution_count": 1,
   "metadata": {},
   "outputs": [],
   "source": [
    "import numpy as np\n",
    "import pandas as pd"
   ]
  },
  {
   "cell_type": "code",
   "execution_count": 2,
   "metadata": {},
   "outputs": [],
   "source": [
    "data_1 = pd.read_csv('data_1.csv')\n",
    "data_2 = pd.read_csv('data_2.csv')\n",
    "data_3 = pd.read_csv('data_3.csv')"
   ]
  },
  {
   "cell_type": "code",
   "execution_count": 3,
   "metadata": {},
   "outputs": [
    {
     "output_type": "execute_result",
     "data": {
      "text/plain": [
       "          director_name      actor_1_name           actor_2_name  \\\n",
       "0         James Cameron       CCH Pounder       Joel David Moore   \n",
       "1        Gore Verbinski       Johnny Depp          Orlando Bloom   \n",
       "2            Sam Mendes   Christoph Waltz           Rory Kinnear   \n",
       "3     Christopher Nolan         Tom Hardy         Christian Bale   \n",
       "4           Doug Walker       Doug Walker             Rob Walker   \n",
       "...                 ...               ...                    ...   \n",
       "6424       Vanessa Roth     Mary J. Blige       Taraji P. Henson   \n",
       "6425  Drew Xanthopoulos  Michelle Fournet          Ellen Garland   \n",
       "6426  Michelle Johnston    Bailee Madison  Michael Evans Behling   \n",
       "6427      Matt Thompson    Channing Tatum       Jason Mantzoukas   \n",
       "6428      Janicza Bravo     Taylour Paige           Riley Keough   \n",
       "\n",
       "              actor_3_name                                   genres  \\\n",
       "0                Wes Studi          Action Adventure Fantasy Sci-Fi   \n",
       "1           Jack Davenport                 Action Adventure Fantasy   \n",
       "2         Stephanie Sigman                Action Adventure Thriller   \n",
       "3     Joseph Gordon-Levitt                          Action Thriller   \n",
       "4                  unknown                              Documentary   \n",
       "...                    ...                                      ...   \n",
       "6424           Alicia Keys                        Documentary Music   \n",
       "6425                   NaN                              Documentary   \n",
       "6426           April Telek                           Comedy Romance   \n",
       "6427           Olivia Munn  Animation Action Comedy History Fantasy   \n",
       "6428        Nicholas Braun                       Drama Comedy Crime   \n",
       "\n",
       "                                     movie_title  \\\n",
       "0                                         avatar   \n",
       "1       pirates of the caribbean: at world's end   \n",
       "2                                        spectre   \n",
       "3                          the dark knight rises   \n",
       "4     star wars: episode vii - the force awakens   \n",
       "...                                          ...   \n",
       "6424                     Mary J. Blige's My Life   \n",
       "6425                                      Fathom   \n",
       "6426              A Cinderella Story: Starstruck   \n",
       "6427                 America: The Motion Picture   \n",
       "6428                                        Zola   \n",
       "\n",
       "                                                   comb  \n",
       "0     CCH Pounder Joel David Moore Wes Studi James C...  \n",
       "1     Johnny Depp Orlando Bloom Jack Davenport Gore ...  \n",
       "2     Christoph Waltz Rory Kinnear Stephanie Sigman ...  \n",
       "3     Tom Hardy Christian Bale Joseph Gordon-Levitt ...  \n",
       "4     Doug Walker Rob Walker unknown Doug Walker Doc...  \n",
       "...                                                 ...  \n",
       "6424  Mary J. Blige Taraji P. Henson Alicia Keys Van...  \n",
       "6425                                                NaN  \n",
       "6426  Bailee Madison Michael Evans Behling April Tel...  \n",
       "6427  Channing Tatum Jason Mantzoukas Olivia Munn Ma...  \n",
       "6428  Taylour Paige Riley Keough Nicholas Braun Jani...  \n",
       "\n",
       "[6429 rows x 7 columns]"
      ],
      "text/html": "<div>\n<style scoped>\n    .dataframe tbody tr th:only-of-type {\n        vertical-align: middle;\n    }\n\n    .dataframe tbody tr th {\n        vertical-align: top;\n    }\n\n    .dataframe thead th {\n        text-align: right;\n    }\n</style>\n<table border=\"1\" class=\"dataframe\">\n  <thead>\n    <tr style=\"text-align: right;\">\n      <th></th>\n      <th>director_name</th>\n      <th>actor_1_name</th>\n      <th>actor_2_name</th>\n      <th>actor_3_name</th>\n      <th>genres</th>\n      <th>movie_title</th>\n      <th>comb</th>\n    </tr>\n  </thead>\n  <tbody>\n    <tr>\n      <th>0</th>\n      <td>James Cameron</td>\n      <td>CCH Pounder</td>\n      <td>Joel David Moore</td>\n      <td>Wes Studi</td>\n      <td>Action Adventure Fantasy Sci-Fi</td>\n      <td>avatar</td>\n      <td>CCH Pounder Joel David Moore Wes Studi James C...</td>\n    </tr>\n    <tr>\n      <th>1</th>\n      <td>Gore Verbinski</td>\n      <td>Johnny Depp</td>\n      <td>Orlando Bloom</td>\n      <td>Jack Davenport</td>\n      <td>Action Adventure Fantasy</td>\n      <td>pirates of the caribbean: at world's end</td>\n      <td>Johnny Depp Orlando Bloom Jack Davenport Gore ...</td>\n    </tr>\n    <tr>\n      <th>2</th>\n      <td>Sam Mendes</td>\n      <td>Christoph Waltz</td>\n      <td>Rory Kinnear</td>\n      <td>Stephanie Sigman</td>\n      <td>Action Adventure Thriller</td>\n      <td>spectre</td>\n      <td>Christoph Waltz Rory Kinnear Stephanie Sigman ...</td>\n    </tr>\n    <tr>\n      <th>3</th>\n      <td>Christopher Nolan</td>\n      <td>Tom Hardy</td>\n      <td>Christian Bale</td>\n      <td>Joseph Gordon-Levitt</td>\n      <td>Action Thriller</td>\n      <td>the dark knight rises</td>\n      <td>Tom Hardy Christian Bale Joseph Gordon-Levitt ...</td>\n    </tr>\n    <tr>\n      <th>4</th>\n      <td>Doug Walker</td>\n      <td>Doug Walker</td>\n      <td>Rob Walker</td>\n      <td>unknown</td>\n      <td>Documentary</td>\n      <td>star wars: episode vii - the force awakens</td>\n      <td>Doug Walker Rob Walker unknown Doug Walker Doc...</td>\n    </tr>\n    <tr>\n      <th>...</th>\n      <td>...</td>\n      <td>...</td>\n      <td>...</td>\n      <td>...</td>\n      <td>...</td>\n      <td>...</td>\n      <td>...</td>\n    </tr>\n    <tr>\n      <th>6424</th>\n      <td>Vanessa Roth</td>\n      <td>Mary J. Blige</td>\n      <td>Taraji P. Henson</td>\n      <td>Alicia Keys</td>\n      <td>Documentary Music</td>\n      <td>Mary J. Blige's My Life</td>\n      <td>Mary J. Blige Taraji P. Henson Alicia Keys Van...</td>\n    </tr>\n    <tr>\n      <th>6425</th>\n      <td>Drew Xanthopoulos</td>\n      <td>Michelle Fournet</td>\n      <td>Ellen Garland</td>\n      <td>NaN</td>\n      <td>Documentary</td>\n      <td>Fathom</td>\n      <td>NaN</td>\n    </tr>\n    <tr>\n      <th>6426</th>\n      <td>Michelle Johnston</td>\n      <td>Bailee Madison</td>\n      <td>Michael Evans Behling</td>\n      <td>April Telek</td>\n      <td>Comedy Romance</td>\n      <td>A Cinderella Story: Starstruck</td>\n      <td>Bailee Madison Michael Evans Behling April Tel...</td>\n    </tr>\n    <tr>\n      <th>6427</th>\n      <td>Matt Thompson</td>\n      <td>Channing Tatum</td>\n      <td>Jason Mantzoukas</td>\n      <td>Olivia Munn</td>\n      <td>Animation Action Comedy History Fantasy</td>\n      <td>America: The Motion Picture</td>\n      <td>Channing Tatum Jason Mantzoukas Olivia Munn Ma...</td>\n    </tr>\n    <tr>\n      <th>6428</th>\n      <td>Janicza Bravo</td>\n      <td>Taylour Paige</td>\n      <td>Riley Keough</td>\n      <td>Nicholas Braun</td>\n      <td>Drama Comedy Crime</td>\n      <td>Zola</td>\n      <td>Taylour Paige Riley Keough Nicholas Braun Jani...</td>\n    </tr>\n  </tbody>\n</table>\n<p>6429 rows × 7 columns</p>\n</div>"
     },
     "metadata": {},
     "execution_count": 3
    }
   ],
   "source": [
    "merged_data = data_1.append(data_2.append(data_3, ignore_index=True), ignore_index=True)\n",
    "\n",
    "merged_data"
   ]
  },
  {
   "cell_type": "code",
   "execution_count": 4,
   "metadata": {},
   "outputs": [
    {
     "output_type": "execute_result",
     "data": {
      "text/plain": [
       "director_name     1\n",
       "actor_1_name      1\n",
       "actor_2_name     15\n",
       "actor_3_name     77\n",
       "genres            6\n",
       "movie_title       1\n",
       "comb             82\n",
       "dtype: int64"
      ]
     },
     "metadata": {},
     "execution_count": 4
    }
   ],
   "source": [
    "merged_data.isnull().sum()"
   ]
  },
  {
   "cell_type": "code",
   "execution_count": 5,
   "metadata": {},
   "outputs": [
    {
     "output_type": "execute_result",
     "data": {
      "text/plain": [
       "director_name    0\n",
       "actor_1_name     0\n",
       "actor_2_name     0\n",
       "actor_3_name     0\n",
       "genres           0\n",
       "movie_title      0\n",
       "comb             0\n",
       "dtype: int64"
      ]
     },
     "metadata": {},
     "execution_count": 5
    }
   ],
   "source": [
    "merged_data = merged_data.dropna()\n",
    "\n",
    "merged_data.isnull().sum()"
   ]
  },
  {
   "cell_type": "code",
   "execution_count": 6,
   "metadata": {},
   "outputs": [
    {
     "output_type": "execute_result",
     "data": {
      "text/plain": [
       "'star wars: episode vii - the force awakens'"
      ]
     },
     "metadata": {},
     "execution_count": 6
    }
   ],
   "source": [
    "merged_data['movie_title'][4]\n"
   ]
  },
  {
   "cell_type": "code",
   "execution_count": 7,
   "metadata": {},
   "outputs": [],
   "source": [
    "merged_data['movie_title'] = merged_data['movie_title'].apply(lambda x : x.rstrip())"
   ]
  },
  {
   "cell_type": "code",
   "execution_count": 10,
   "metadata": {},
   "outputs": [
    {
     "output_type": "execute_result",
     "data": {
      "text/plain": [
       "(6347, 7)"
      ]
     },
     "metadata": {},
     "execution_count": 10
    }
   ],
   "source": [
    "merged_data.shape"
   ]
  },
  {
   "cell_type": "code",
   "execution_count": 12,
   "metadata": {},
   "outputs": [],
   "source": [
    "merged_data = merged_data.drop_duplicates(subset=\"movie_title\")"
   ]
  },
  {
   "cell_type": "code",
   "execution_count": 13,
   "metadata": {},
   "outputs": [
    {
     "output_type": "execute_result",
     "data": {
      "text/plain": [
       "(6207, 7)"
      ]
     },
     "metadata": {},
     "execution_count": 13
    }
   ],
   "source": [
    "merged_data.shape"
   ]
  },
  {
   "cell_type": "code",
   "execution_count": 14,
   "metadata": {},
   "outputs": [],
   "source": [
    "merged_data.to_csv('dataset.csv', index=False)"
   ]
  },
  {
   "cell_type": "code",
   "execution_count": null,
   "metadata": {},
   "outputs": [],
   "source": []
  }
 ]
}