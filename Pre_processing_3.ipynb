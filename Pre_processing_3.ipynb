{
 "cells": [
  {
   "cell_type": "code",
   "execution_count": 1,
   "metadata": {},
   "outputs": [],
   "source": [
    "import pandas as pd\n",
    "import numpy as np"
   ]
  },
  {
   "cell_type": "code",
   "execution_count": 2,
   "metadata": {},
   "outputs": [],
   "source": [
    "url = \"https://en.wikipedia.org/wiki/List_of_American_films_of_2018\"\n",
    "df1 = pd.read_html(url, header=0)[2]\n",
    "df2 = pd.read_html(url, header=0)[3]\n",
    "df3 = pd.read_html(url, header=0)[4]\n",
    "df4 = pd.read_html(url, header=0)[5]"
   ]
  },
  {
   "cell_type": "code",
   "execution_count": 3,
   "metadata": {},
   "outputs": [],
   "source": [
    "url2 = \"https://en.wikipedia.org/wiki/List_of_American_films_of_2019\"\n",
    "df5 = pd.read_html(url2, header=0)[2]\n",
    "df6 = pd.read_html(url2, header=0)[3]\n",
    "df7 = pd.read_html(url2, header=0)[4]\n",
    "df8 = pd.read_html(url2, header=0)[5]"
   ]
  },
  {
   "cell_type": "code",
   "execution_count": 4,
   "metadata": {},
   "outputs": [],
   "source": [
    "url3 = \"https://en.wikipedia.org/wiki/List_of_American_films_of_2020\"\n",
    "df9 = pd.read_html(url3, header=0)[3]\n",
    "df10 = pd.read_html(url3, header=0)[4]\n",
    "df11 = pd.read_html(url3, header=0)[5]\n",
    "df12 = pd.read_html(url3, header=0)[6]"
   ]
  },
  {
   "cell_type": "code",
   "execution_count": 5,
   "metadata": {},
   "outputs": [],
   "source": [
    "url4 = 'https://en.wikipedia.org/wiki/List_of_American_films_of_2021'\n",
    "df13 = pd.read_html(url4, header=0)[3]\n",
    "df14 = pd.read_html(url4, header=0)[4]"
   ]
  },
  {
   "cell_type": "code",
   "execution_count": 6,
   "metadata": {},
   "outputs": [],
   "source": [
    "df_2018 = df1.append(df2.append(df3.append(df4,ignore_index=True),ignore_index=True),ignore_index=True)\n",
    "\n",
    "df_2019 = df5.append(df6.append(df7.append(df8,ignore_index=True),ignore_index=True),ignore_index=True)\n",
    "\n",
    "df_2020 = df9.append(df10.append(df11.append(df12,ignore_index=True),ignore_index=True),ignore_index=True)\n",
    "\n",
    "df_2021 = df13.append(df14,ignore_index=True)\n",
    "\n"
   ]
  },
  {
   "cell_type": "code",
   "execution_count": 7,
   "metadata": {},
   "outputs": [],
   "source": [
    "from tmdbv3api import TMDb\n",
    "import json\n",
    "import requests\n",
    "tmdb = TMDb()\n",
    "tmdb.api_key = '746897e36a21712ed25a5829904b339b'"
   ]
  },
  {
   "cell_type": "code",
   "execution_count": 8,
   "metadata": {},
   "outputs": [],
   "source": [
    "from tmdbv3api import Movie\n",
    "tmdb_movie = Movie()\n",
    "def get_genre(x):\n",
    "    genres = []\n",
    "    result = tmdb_movie.search(x)\n",
    "    movie_id = result[0].id\n",
    "    response = requests.get('https://api.themoviedb.org/3/movie/{}?api_key={}'.format(movie_id,tmdb.api_key))\n",
    "    data_json = response.json()\n",
    "    if data_json['genres']:\n",
    "        genre_str = \" \" \n",
    "        for i in range(0,len(data_json['genres'])):\n",
    "            genres.append(data_json['genres'][i]['name'])\n",
    "        return genre_str.join(genres)\n",
    "    else:\n",
    "        np.NaN"
   ]
  },
  {
   "cell_type": "code",
   "execution_count": 9,
   "metadata": {},
   "outputs": [],
   "source": [
    "df_2018['genres'] = df_2018['Title'].map(lambda x: get_genre(str(x)))"
   ]
  },
  {
   "cell_type": "code",
   "execution_count": 10,
   "metadata": {},
   "outputs": [],
   "source": [
    "df_2019['genres'] = df_2019['Title'].map(lambda x: get_genre(str(x)))"
   ]
  },
  {
   "cell_type": "code",
   "execution_count": 11,
   "metadata": {},
   "outputs": [],
   "source": [
    "df_2020['genres'] = df_2020['Title'].map(lambda x: get_genre(str(x)))"
   ]
  },
  {
   "cell_type": "code",
   "execution_count": 12,
   "metadata": {},
   "outputs": [],
   "source": [
    "df_2020['genres'] = df_2020['Title'].map(lambda x: get_genre(str(x)))"
   ]
  },
  {
   "cell_type": "code",
   "execution_count": 13,
   "metadata": {},
   "outputs": [],
   "source": [
    "df_2018_new = df_2018[['Title','Cast and crew','genres']]\n",
    "df_2019_new = df_2019[['Title','Cast and crew','genres']]\n",
    "df_2020_new = df_2020[['Title','Cast and crew','genres']]\n",
    "df_2021_new = df_2021[['Title','Cast and crew','genres']]"
   ]
  },
  {
   "cell_type": "code",
   "execution_count": 20,
   "metadata": {},
   "outputs": [],
   "source": [
    "def get_director(x):\n",
    "    if \" (director)\" in x:\n",
    "        return x.split(\" (director)\")[0]\n",
    "    elif \" (directors)\" in x:\n",
    "        return x.split(\" (directors)\")[0]\n",
    "    else:\n",
    "        return x.split(\" (director/screenplay)\")[0]\n",
    "\n",
    "def get_actor_1(x):\n",
    "    return ((x.split(\"screenplay); \")[-1]).split(\", \")[0])\n",
    "\n",
    "\n",
    "def get_actor_2(x):\n",
    "    if len((x.split(\"screenplay); \")[-1]).split(\", \")) < 2:\n",
    "        return np.NaN\n",
    "    else:\n",
    "        return ((x.split(\"screenplay); \")[-1]).split(\", \")[1])\n",
    "\n",
    "def get_actor_3(x):\n",
    "    if len((x.split(\"screenplay); \")[-1]).split(\", \")) < 3:\n",
    "        return np.NaN\n",
    "    else:\n",
    "        return ((x.split(\"screenplay); \")[-1]).split(\", \")[2])"
   ]
  },
  {
   "cell_type": "code",
   "execution_count": 61,
   "metadata": {},
   "outputs": [],
   "source": [
    "df_2018_new['director_name'] = df_2018_new['Cast and crew'].map(lambda x: get_director(str(x)))\n",
    "df_2018_new['actor_1_name'] = df_2018_new['Cast and crew'].map(lambda x: get_actor_1(str(x)))\n",
    "df_2018_new['actor_2_name'] = df_2018_new['Cast and crew'].map(lambda x: get_actor_2(str(x)))\n",
    "df_2018_new['actor_3_name'] = df_2018_new['Cast and crew'].map(lambda x: get_actor_3(str(x)))"
   ]
  },
  {
   "cell_type": "code",
   "execution_count": 63,
   "metadata": {},
   "outputs": [],
   "source": [
    "df_2019_new['director_name'] = df_2019_new['Cast and crew'].map(lambda x: get_director(str(x)))\n",
    "df_2019_new['actor_1_name'] = df_2019_new['Cast and crew'].map(lambda x: get_actor_1(str(x)))\n",
    "df_2019_new['actor_2_name'] = df_2019_new['Cast and crew'].map(lambda x: get_actor_2(str(x)))\n",
    "df_2019_new['actor_3_name'] = df_2019_new['Cast and crew'].map(lambda x: get_actor_3(str(x)))"
   ]
  },
  {
   "cell_type": "code",
   "execution_count": 57,
   "metadata": {},
   "outputs": [],
   "source": [
    "df_2020_new['director_name'] = df_2020_new['Cast and crew'].map(lambda x: get_director(str(x)))\n",
    "df_2020_new['actor_1_name'] = df_2020_new['Cast and crew'].map(lambda x: get_actor_1(str(x)))\n",
    "df_2020_new['actor_2_name'] = df_2020_new['Cast and crew'].map(lambda x: get_actor_2(str(x)))\n",
    "df_2020_new['actor_3_name'] = df_2020_new['Cast and crew'].map(lambda x: get_actor_3(str(x)))"
   ]
  },
  {
   "cell_type": "code",
   "execution_count": 60,
   "metadata": {},
   "outputs": [],
   "source": [
    "df_2021_new['director_name'] = df_2021_new['Cast and crew'].map(lambda x: get_director(str(x)))\n",
    "df_2021_new['actor_1_name'] = df_2021_new['Cast and crew'].map(lambda x: get_actor_1(str(x)))\n",
    "df_2021_new['actor_2_name'] = df_2021_new['Cast and crew'].map(lambda x: get_actor_2(str(x)))\n",
    "df_2021_new['actor_3_name'] = df_2021_new['Cast and crew'].map(lambda x: get_actor_3(str(x)))"
   ]
  },
  {
   "cell_type": "code",
   "execution_count": 64,
   "metadata": {},
   "outputs": [],
   "source": [
    "df_final = df_2018_new.append(df_2019_new.append(df_2020_new.append(df_2021_new,ignore_index=True),ignore_index=True),ignore_index=True)\n"
   ]
  },
  {
   "cell_type": "code",
   "execution_count": 65,
   "metadata": {},
   "outputs": [
    {
     "output_type": "execute_result",
     "data": {
      "text/plain": [
       "                              Title  \\\n",
       "0           Insidious: The Last Key   \n",
       "1                  The Strange Ones   \n",
       "2                          Stratton   \n",
       "3                     Sweet Country   \n",
       "4                      The Commuter   \n",
       "..                              ...   \n",
       "923         Mary J. Blige's My Life   \n",
       "924                          Fathom   \n",
       "925  A Cinderella Story: Starstruck   \n",
       "926     America: The Motion Picture   \n",
       "927                            Zola   \n",
       "\n",
       "                                         Cast and crew  \\\n",
       "0    Adam Robitel (director); Leigh Whannell (scree...   \n",
       "1    Lauren Wolkstein (director); Christopher Radcl...   \n",
       "2    Simon West (director); Duncan Falconer, Warren...   \n",
       "3    Warwick Thornton (director); David Tranter, St...   \n",
       "4    Jaume Collet-Serra (director); Byron Willinger...   \n",
       "..                                                 ...   \n",
       "923  Vanessa Roth (director/screenplay); Mary J. Bl...   \n",
       "924  Drew Xanthopoulos (director/screenplay); Miche...   \n",
       "925  Michelle Johnston (director/screenplay); Baile...   \n",
       "926  Matt Thompson (director); Dave Callaham (scree...   \n",
       "927  Janicza Bravo (director/screenplay); Jeremy O....   \n",
       "\n",
       "                                      genres       director_name  \\\n",
       "0                    Horror Mystery Thriller        Adam Robitel   \n",
       "1                             Thriller Drama    Lauren Wolkstein   \n",
       "2                            Action Thriller          Simon West   \n",
       "3                      Drama History Western    Warwick Thornton   \n",
       "4                            Action Thriller  Jaume Collet-Serra   \n",
       "..                                       ...                 ...   \n",
       "923                        Documentary Music        Vanessa Roth   \n",
       "924                              Documentary   Drew Xanthopoulos   \n",
       "925                           Comedy Romance   Michelle Johnston   \n",
       "926  Animation Action Comedy History Fantasy       Matt Thompson   \n",
       "927                       Drama Comedy Crime       Janicza Bravo   \n",
       "\n",
       "         actor_1_name            actor_2_name    actor_3_name  \n",
       "0           Lin Shaye           Angus Sampson  Leigh Whannell  \n",
       "1       Alex Pettyfer  James Freedson-Jackson   Emily Althaus  \n",
       "2      Dominic Cooper          Austin Stowell      Gemma Chan  \n",
       "3         Bryan Brown               Sam Neill             NaN  \n",
       "4         Liam Neeson            Vera Farmiga  Patrick Wilson  \n",
       "..                ...                     ...             ...  \n",
       "923     Mary J. Blige        Taraji P. Henson     Alicia Keys  \n",
       "924  Michelle Fournet           Ellen Garland             NaN  \n",
       "925    Bailee Madison   Michael Evans Behling     April Telek  \n",
       "926    Channing Tatum        Jason Mantzoukas     Olivia Munn  \n",
       "927     Taylour Paige            Riley Keough  Nicholas Braun  \n",
       "\n",
       "[928 rows x 7 columns]"
      ],
      "text/html": "<div>\n<style scoped>\n    .dataframe tbody tr th:only-of-type {\n        vertical-align: middle;\n    }\n\n    .dataframe tbody tr th {\n        vertical-align: top;\n    }\n\n    .dataframe thead th {\n        text-align: right;\n    }\n</style>\n<table border=\"1\" class=\"dataframe\">\n  <thead>\n    <tr style=\"text-align: right;\">\n      <th></th>\n      <th>Title</th>\n      <th>Cast and crew</th>\n      <th>genres</th>\n      <th>director_name</th>\n      <th>actor_1_name</th>\n      <th>actor_2_name</th>\n      <th>actor_3_name</th>\n    </tr>\n  </thead>\n  <tbody>\n    <tr>\n      <th>0</th>\n      <td>Insidious: The Last Key</td>\n      <td>Adam Robitel (director); Leigh Whannell (scree...</td>\n      <td>Horror Mystery Thriller</td>\n      <td>Adam Robitel</td>\n      <td>Lin Shaye</td>\n      <td>Angus Sampson</td>\n      <td>Leigh Whannell</td>\n    </tr>\n    <tr>\n      <th>1</th>\n      <td>The Strange Ones</td>\n      <td>Lauren Wolkstein (director); Christopher Radcl...</td>\n      <td>Thriller Drama</td>\n      <td>Lauren Wolkstein</td>\n      <td>Alex Pettyfer</td>\n      <td>James Freedson-Jackson</td>\n      <td>Emily Althaus</td>\n    </tr>\n    <tr>\n      <th>2</th>\n      <td>Stratton</td>\n      <td>Simon West (director); Duncan Falconer, Warren...</td>\n      <td>Action Thriller</td>\n      <td>Simon West</td>\n      <td>Dominic Cooper</td>\n      <td>Austin Stowell</td>\n      <td>Gemma Chan</td>\n    </tr>\n    <tr>\n      <th>3</th>\n      <td>Sweet Country</td>\n      <td>Warwick Thornton (director); David Tranter, St...</td>\n      <td>Drama History Western</td>\n      <td>Warwick Thornton</td>\n      <td>Bryan Brown</td>\n      <td>Sam Neill</td>\n      <td>NaN</td>\n    </tr>\n    <tr>\n      <th>4</th>\n      <td>The Commuter</td>\n      <td>Jaume Collet-Serra (director); Byron Willinger...</td>\n      <td>Action Thriller</td>\n      <td>Jaume Collet-Serra</td>\n      <td>Liam Neeson</td>\n      <td>Vera Farmiga</td>\n      <td>Patrick Wilson</td>\n    </tr>\n    <tr>\n      <th>...</th>\n      <td>...</td>\n      <td>...</td>\n      <td>...</td>\n      <td>...</td>\n      <td>...</td>\n      <td>...</td>\n      <td>...</td>\n    </tr>\n    <tr>\n      <th>923</th>\n      <td>Mary J. Blige's My Life</td>\n      <td>Vanessa Roth (director/screenplay); Mary J. Bl...</td>\n      <td>Documentary Music</td>\n      <td>Vanessa Roth</td>\n      <td>Mary J. Blige</td>\n      <td>Taraji P. Henson</td>\n      <td>Alicia Keys</td>\n    </tr>\n    <tr>\n      <th>924</th>\n      <td>Fathom</td>\n      <td>Drew Xanthopoulos (director/screenplay); Miche...</td>\n      <td>Documentary</td>\n      <td>Drew Xanthopoulos</td>\n      <td>Michelle Fournet</td>\n      <td>Ellen Garland</td>\n      <td>NaN</td>\n    </tr>\n    <tr>\n      <th>925</th>\n      <td>A Cinderella Story: Starstruck</td>\n      <td>Michelle Johnston (director/screenplay); Baile...</td>\n      <td>Comedy Romance</td>\n      <td>Michelle Johnston</td>\n      <td>Bailee Madison</td>\n      <td>Michael Evans Behling</td>\n      <td>April Telek</td>\n    </tr>\n    <tr>\n      <th>926</th>\n      <td>America: The Motion Picture</td>\n      <td>Matt Thompson (director); Dave Callaham (scree...</td>\n      <td>Animation Action Comedy History Fantasy</td>\n      <td>Matt Thompson</td>\n      <td>Channing Tatum</td>\n      <td>Jason Mantzoukas</td>\n      <td>Olivia Munn</td>\n    </tr>\n    <tr>\n      <th>927</th>\n      <td>Zola</td>\n      <td>Janicza Bravo (director/screenplay); Jeremy O....</td>\n      <td>Drama Comedy Crime</td>\n      <td>Janicza Bravo</td>\n      <td>Taylour Paige</td>\n      <td>Riley Keough</td>\n      <td>Nicholas Braun</td>\n    </tr>\n  </tbody>\n</table>\n<p>928 rows × 7 columns</p>\n</div>"
     },
     "metadata": {},
     "execution_count": 65
    }
   ],
   "source": [
    "df_final"
   ]
  },
  {
   "cell_type": "code",
   "execution_count": 66,
   "metadata": {},
   "outputs": [],
   "source": [
    "df_final = df_final.rename(columns={'Title':'movie_title'})"
   ]
  },
  {
   "cell_type": "code",
   "execution_count": 67,
   "metadata": {},
   "outputs": [],
   "source": [
    "data = df_final.loc[:,['director_name','actor_1_name','actor_2_name','actor_3_name','genres','movie_title']]"
   ]
  },
  {
   "cell_type": "code",
   "execution_count": 68,
   "metadata": {},
   "outputs": [
    {
     "output_type": "execute_result",
     "data": {
      "text/plain": [
       "          director_name      actor_1_name            actor_2_name  \\\n",
       "0          Adam Robitel         Lin Shaye           Angus Sampson   \n",
       "1      Lauren Wolkstein     Alex Pettyfer  James Freedson-Jackson   \n",
       "2            Simon West    Dominic Cooper          Austin Stowell   \n",
       "3      Warwick Thornton       Bryan Brown               Sam Neill   \n",
       "4    Jaume Collet-Serra       Liam Neeson            Vera Farmiga   \n",
       "..                  ...               ...                     ...   \n",
       "923        Vanessa Roth     Mary J. Blige        Taraji P. Henson   \n",
       "924   Drew Xanthopoulos  Michelle Fournet           Ellen Garland   \n",
       "925   Michelle Johnston    Bailee Madison   Michael Evans Behling   \n",
       "926       Matt Thompson    Channing Tatum        Jason Mantzoukas   \n",
       "927       Janicza Bravo     Taylour Paige            Riley Keough   \n",
       "\n",
       "       actor_3_name                                   genres  \\\n",
       "0    Leigh Whannell                  Horror Mystery Thriller   \n",
       "1     Emily Althaus                           Thriller Drama   \n",
       "2        Gemma Chan                          Action Thriller   \n",
       "3               NaN                    Drama History Western   \n",
       "4    Patrick Wilson                          Action Thriller   \n",
       "..              ...                                      ...   \n",
       "923     Alicia Keys                        Documentary Music   \n",
       "924             NaN                              Documentary   \n",
       "925     April Telek                           Comedy Romance   \n",
       "926     Olivia Munn  Animation Action Comedy History Fantasy   \n",
       "927  Nicholas Braun                       Drama Comedy Crime   \n",
       "\n",
       "                        movie_title  \n",
       "0           Insidious: The Last Key  \n",
       "1                  The Strange Ones  \n",
       "2                          Stratton  \n",
       "3                     Sweet Country  \n",
       "4                      The Commuter  \n",
       "..                              ...  \n",
       "923         Mary J. Blige's My Life  \n",
       "924                          Fathom  \n",
       "925  A Cinderella Story: Starstruck  \n",
       "926     America: The Motion Picture  \n",
       "927                            Zola  \n",
       "\n",
       "[928 rows x 6 columns]"
      ],
      "text/html": "<div>\n<style scoped>\n    .dataframe tbody tr th:only-of-type {\n        vertical-align: middle;\n    }\n\n    .dataframe tbody tr th {\n        vertical-align: top;\n    }\n\n    .dataframe thead th {\n        text-align: right;\n    }\n</style>\n<table border=\"1\" class=\"dataframe\">\n  <thead>\n    <tr style=\"text-align: right;\">\n      <th></th>\n      <th>director_name</th>\n      <th>actor_1_name</th>\n      <th>actor_2_name</th>\n      <th>actor_3_name</th>\n      <th>genres</th>\n      <th>movie_title</th>\n    </tr>\n  </thead>\n  <tbody>\n    <tr>\n      <th>0</th>\n      <td>Adam Robitel</td>\n      <td>Lin Shaye</td>\n      <td>Angus Sampson</td>\n      <td>Leigh Whannell</td>\n      <td>Horror Mystery Thriller</td>\n      <td>Insidious: The Last Key</td>\n    </tr>\n    <tr>\n      <th>1</th>\n      <td>Lauren Wolkstein</td>\n      <td>Alex Pettyfer</td>\n      <td>James Freedson-Jackson</td>\n      <td>Emily Althaus</td>\n      <td>Thriller Drama</td>\n      <td>The Strange Ones</td>\n    </tr>\n    <tr>\n      <th>2</th>\n      <td>Simon West</td>\n      <td>Dominic Cooper</td>\n      <td>Austin Stowell</td>\n      <td>Gemma Chan</td>\n      <td>Action Thriller</td>\n      <td>Stratton</td>\n    </tr>\n    <tr>\n      <th>3</th>\n      <td>Warwick Thornton</td>\n      <td>Bryan Brown</td>\n      <td>Sam Neill</td>\n      <td>NaN</td>\n      <td>Drama History Western</td>\n      <td>Sweet Country</td>\n    </tr>\n    <tr>\n      <th>4</th>\n      <td>Jaume Collet-Serra</td>\n      <td>Liam Neeson</td>\n      <td>Vera Farmiga</td>\n      <td>Patrick Wilson</td>\n      <td>Action Thriller</td>\n      <td>The Commuter</td>\n    </tr>\n    <tr>\n      <th>...</th>\n      <td>...</td>\n      <td>...</td>\n      <td>...</td>\n      <td>...</td>\n      <td>...</td>\n      <td>...</td>\n    </tr>\n    <tr>\n      <th>923</th>\n      <td>Vanessa Roth</td>\n      <td>Mary J. Blige</td>\n      <td>Taraji P. Henson</td>\n      <td>Alicia Keys</td>\n      <td>Documentary Music</td>\n      <td>Mary J. Blige's My Life</td>\n    </tr>\n    <tr>\n      <th>924</th>\n      <td>Drew Xanthopoulos</td>\n      <td>Michelle Fournet</td>\n      <td>Ellen Garland</td>\n      <td>NaN</td>\n      <td>Documentary</td>\n      <td>Fathom</td>\n    </tr>\n    <tr>\n      <th>925</th>\n      <td>Michelle Johnston</td>\n      <td>Bailee Madison</td>\n      <td>Michael Evans Behling</td>\n      <td>April Telek</td>\n      <td>Comedy Romance</td>\n      <td>A Cinderella Story: Starstruck</td>\n    </tr>\n    <tr>\n      <th>926</th>\n      <td>Matt Thompson</td>\n      <td>Channing Tatum</td>\n      <td>Jason Mantzoukas</td>\n      <td>Olivia Munn</td>\n      <td>Animation Action Comedy History Fantasy</td>\n      <td>America: The Motion Picture</td>\n    </tr>\n    <tr>\n      <th>927</th>\n      <td>Janicza Bravo</td>\n      <td>Taylour Paige</td>\n      <td>Riley Keough</td>\n      <td>Nicholas Braun</td>\n      <td>Drama Comedy Crime</td>\n      <td>Zola</td>\n    </tr>\n  </tbody>\n</table>\n<p>928 rows × 6 columns</p>\n</div>"
     },
     "metadata": {},
     "execution_count": 68
    }
   ],
   "source": [
    "data"
   ]
  },
  {
   "cell_type": "code",
   "execution_count": 69,
   "metadata": {},
   "outputs": [],
   "source": [
    "data.to_csv('data_3.csv', index=False)"
   ]
  },
  {
   "cell_type": "code",
   "execution_count": null,
   "metadata": {},
   "outputs": [],
   "source": []
  }
 ],
 "metadata": {
  "kernelspec": {
   "name": "python3",
   "display_name": "Python 3.9.1 64-bit ('venv': venv)",
   "metadata": {
    "interpreter": {
     "hash": "f7651a8189a46ae8868a419f663f5166c59fa60b9320ec59da6a4bbac0f96796"
    }
   }
  },
  "language_info": {
   "codemirror_mode": {
    "name": "ipython",
    "version": 3
   },
   "file_extension": ".py",
   "mimetype": "text/x-python",
   "name": "python",
   "nbconvert_exporter": "python",
   "pygments_lexer": "ipython3",
   "version": "3.9.1"
  }
 },
 "nbformat": 4,
 "nbformat_minor": 4
}