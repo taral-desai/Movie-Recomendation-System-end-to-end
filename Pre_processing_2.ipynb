{
 "metadata": {
  "language_info": {
   "codemirror_mode": {
    "name": "ipython",
    "version": 3
   },
   "file_extension": ".py",
   "mimetype": "text/x-python",
   "name": "python",
   "nbconvert_exporter": "python",
   "pygments_lexer": "ipython3",
   "version": "3.9.1"
  },
  "orig_nbformat": 2,
  "kernelspec": {
   "name": "python3",
   "display_name": "Python 3.9.1 64-bit ('venv': venv)",
   "metadata": {
    "interpreter": {
     "hash": "f7651a8189a46ae8868a419f663f5166c59fa60b9320ec59da6a4bbac0f96796"
    }
   }
  }
 },
 "nbformat": 4,
 "nbformat_minor": 2,
 "cells": [
  {
   "cell_type": "code",
   "execution_count": 162,
   "metadata": {},
   "outputs": [],
   "source": [
    "import numpy as np\n",
    "import pandas as pd"
   ]
  },
  {
   "cell_type": "code",
   "execution_count": 163,
   "metadata": {},
   "outputs": [
    {
     "output_type": "execute_result",
     "data": {
      "text/plain": [
       "                                                                         cast  \\\n",
       "0  [{'cast_id': 14, 'character': 'Woody (voice)', 'credit_id': '52fe4284c3...   \n",
       "1  [{'cast_id': 1, 'character': 'Alan Parrish', 'credit_id': '52fe44bfc3a3...   \n",
       "2  [{'cast_id': 2, 'character': 'Max Goldman', 'credit_id': '52fe466a92514...   \n",
       "3  [{'cast_id': 1, 'character': \"Savannah 'Vannah' Jackson\", 'credit_id': ...   \n",
       "4  [{'cast_id': 1, 'character': 'George Banks', 'credit_id': '52fe44959251...   \n",
       "\n",
       "                                                                         crew  \\\n",
       "0  [{'credit_id': '52fe4284c3a36847f8024f49', 'department': 'Directing', '...   \n",
       "1  [{'credit_id': '52fe44bfc3a36847f80a7cd1', 'department': 'Production', ...   \n",
       "2  [{'credit_id': '52fe466a9251416c75077a89', 'department': 'Directing', '...   \n",
       "3  [{'credit_id': '52fe44779251416c91011acb', 'department': 'Directing', '...   \n",
       "4  [{'credit_id': '52fe44959251416c75039ed7', 'department': 'Sound', 'gend...   \n",
       "\n",
       "      id  \n",
       "0    862  \n",
       "1   8844  \n",
       "2  15602  \n",
       "3  31357  \n",
       "4  11862  "
      ],
      "text/html": "<div>\n<style scoped>\n    .dataframe tbody tr th:only-of-type {\n        vertical-align: middle;\n    }\n\n    .dataframe tbody tr th {\n        vertical-align: top;\n    }\n\n    .dataframe thead th {\n        text-align: right;\n    }\n</style>\n<table border=\"1\" class=\"dataframe\">\n  <thead>\n    <tr style=\"text-align: right;\">\n      <th></th>\n      <th>cast</th>\n      <th>crew</th>\n      <th>id</th>\n    </tr>\n  </thead>\n  <tbody>\n    <tr>\n      <th>0</th>\n      <td>[{'cast_id': 14, 'character': 'Woody (voice)', 'credit_id': '52fe4284c3...</td>\n      <td>[{'credit_id': '52fe4284c3a36847f8024f49', 'department': 'Directing', '...</td>\n      <td>862</td>\n    </tr>\n    <tr>\n      <th>1</th>\n      <td>[{'cast_id': 1, 'character': 'Alan Parrish', 'credit_id': '52fe44bfc3a3...</td>\n      <td>[{'credit_id': '52fe44bfc3a36847f80a7cd1', 'department': 'Production', ...</td>\n      <td>8844</td>\n    </tr>\n    <tr>\n      <th>2</th>\n      <td>[{'cast_id': 2, 'character': 'Max Goldman', 'credit_id': '52fe466a92514...</td>\n      <td>[{'credit_id': '52fe466a9251416c75077a89', 'department': 'Directing', '...</td>\n      <td>15602</td>\n    </tr>\n    <tr>\n      <th>3</th>\n      <td>[{'cast_id': 1, 'character': \"Savannah 'Vannah' Jackson\", 'credit_id': ...</td>\n      <td>[{'credit_id': '52fe44779251416c91011acb', 'department': 'Directing', '...</td>\n      <td>31357</td>\n    </tr>\n    <tr>\n      <th>4</th>\n      <td>[{'cast_id': 1, 'character': 'George Banks', 'credit_id': '52fe44959251...</td>\n      <td>[{'credit_id': '52fe44959251416c75039ed7', 'department': 'Sound', 'gend...</td>\n      <td>11862</td>\n    </tr>\n  </tbody>\n</table>\n</div>"
     },
     "metadata": {},
     "execution_count": 163
    }
   ],
   "source": [
    "credits = pd.read_csv('credits.csv')\n",
    "credits.head()"
   ]
  },
  {
   "cell_type": "code",
   "execution_count": 164,
   "metadata": {},
   "outputs": [
    {
     "output_type": "execute_result",
     "data": {
      "text/plain": [
       "   adult  \\\n",
       "0  False   \n",
       "1  False   \n",
       "2  False   \n",
       "3  False   \n",
       "4  False   \n",
       "\n",
       "                                                        belongs_to_collection  \\\n",
       "0  {'id': 10194, 'name': 'Toy Story Collection', 'poster_path': '/7G9915Lf...   \n",
       "1                                                                         NaN   \n",
       "2  {'id': 119050, 'name': 'Grumpy Old Men Collection', 'poster_path': '/nL...   \n",
       "3                                                                         NaN   \n",
       "4  {'id': 96871, 'name': 'Father of the Bride Collection', 'poster_path': ...   \n",
       "\n",
       "     budget  \\\n",
       "0  30000000   \n",
       "1  65000000   \n",
       "2         0   \n",
       "3  16000000   \n",
       "4         0   \n",
       "\n",
       "                                                                       genres  \\\n",
       "0  [{'id': 16, 'name': 'Animation'}, {'id': 35, 'name': 'Comedy'}, {'id': ...   \n",
       "1  [{'id': 12, 'name': 'Adventure'}, {'id': 14, 'name': 'Fantasy'}, {'id':...   \n",
       "2            [{'id': 10749, 'name': 'Romance'}, {'id': 35, 'name': 'Comedy'}]   \n",
       "3  [{'id': 35, 'name': 'Comedy'}, {'id': 18, 'name': 'Drama'}, {'id': 1074...   \n",
       "4                                              [{'id': 35, 'name': 'Comedy'}]   \n",
       "\n",
       "                               homepage     id    imdb_id original_language  \\\n",
       "0  http://toystory.disney.com/toy-story    862  tt0114709                en   \n",
       "1                                   NaN   8844  tt0113497                en   \n",
       "2                                   NaN  15602  tt0113228                en   \n",
       "3                                   NaN  31357  tt0114885                en   \n",
       "4                                   NaN  11862  tt0113041                en   \n",
       "\n",
       "                original_title  \\\n",
       "0                    Toy Story   \n",
       "1                      Jumanji   \n",
       "2             Grumpier Old Men   \n",
       "3            Waiting to Exhale   \n",
       "4  Father of the Bride Part II   \n",
       "\n",
       "                                                                     overview  \\\n",
       "0  Led by Woody, Andy's toys live happily in his room until Andy's birthda...   \n",
       "1  When siblings Judy and Peter discover an enchanted board game that open...   \n",
       "2  A family wedding reignites the ancient feud between next-door neighbors...   \n",
       "3  Cheated on, mistreated and stepped on, the women are holding their brea...   \n",
       "4  Just when George Banks has recovered from his daughter's wedding, he re...   \n",
       "\n",
       "   ... release_date      revenue runtime  \\\n",
       "0  ...   1995-10-30  373554033.0    81.0   \n",
       "1  ...   1995-12-15  262797249.0   104.0   \n",
       "2  ...   1995-12-22          0.0   101.0   \n",
       "3  ...   1995-12-22   81452156.0   127.0   \n",
       "4  ...   1995-02-10   76578911.0   106.0   \n",
       "\n",
       "                                                             spoken_languages  \\\n",
       "0                                    [{'iso_639_1': 'en', 'name': 'English'}]   \n",
       "1  [{'iso_639_1': 'en', 'name': 'English'}, {'iso_639_1': 'fr', 'name': 'F...   \n",
       "2                                    [{'iso_639_1': 'en', 'name': 'English'}]   \n",
       "3                                    [{'iso_639_1': 'en', 'name': 'English'}]   \n",
       "4                                    [{'iso_639_1': 'en', 'name': 'English'}]   \n",
       "\n",
       "     status  \\\n",
       "0  Released   \n",
       "1  Released   \n",
       "2  Released   \n",
       "3  Released   \n",
       "4  Released   \n",
       "\n",
       "                                                                      tagline  \\\n",
       "0                                                                         NaN   \n",
       "1                                   Roll the dice and unleash the excitement!   \n",
       "2                        Still Yelling. Still Fighting. Still Ready for Love.   \n",
       "3  Friends are the people who let you be yourself... and never let you for...   \n",
       "4  Just When His World Is Back To Normal... He's In For The Surprise Of Hi...   \n",
       "\n",
       "                         title  video vote_average vote_count  \n",
       "0                    Toy Story  False          7.7     5415.0  \n",
       "1                      Jumanji  False          6.9     2413.0  \n",
       "2             Grumpier Old Men  False          6.5       92.0  \n",
       "3            Waiting to Exhale  False          6.1       34.0  \n",
       "4  Father of the Bride Part II  False          5.7      173.0  \n",
       "\n",
       "[5 rows x 24 columns]"
      ],
      "text/html": "<div>\n<style scoped>\n    .dataframe tbody tr th:only-of-type {\n        vertical-align: middle;\n    }\n\n    .dataframe tbody tr th {\n        vertical-align: top;\n    }\n\n    .dataframe thead th {\n        text-align: right;\n    }\n</style>\n<table border=\"1\" class=\"dataframe\">\n  <thead>\n    <tr style=\"text-align: right;\">\n      <th></th>\n      <th>adult</th>\n      <th>belongs_to_collection</th>\n      <th>budget</th>\n      <th>genres</th>\n      <th>homepage</th>\n      <th>id</th>\n      <th>imdb_id</th>\n      <th>original_language</th>\n      <th>original_title</th>\n      <th>overview</th>\n      <th>...</th>\n      <th>release_date</th>\n      <th>revenue</th>\n      <th>runtime</th>\n      <th>spoken_languages</th>\n      <th>status</th>\n      <th>tagline</th>\n      <th>title</th>\n      <th>video</th>\n      <th>vote_average</th>\n      <th>vote_count</th>\n    </tr>\n  </thead>\n  <tbody>\n    <tr>\n      <th>0</th>\n      <td>False</td>\n      <td>{'id': 10194, 'name': 'Toy Story Collection', 'poster_path': '/7G9915Lf...</td>\n      <td>30000000</td>\n      <td>[{'id': 16, 'name': 'Animation'}, {'id': 35, 'name': 'Comedy'}, {'id': ...</td>\n      <td>http://toystory.disney.com/toy-story</td>\n      <td>862</td>\n      <td>tt0114709</td>\n      <td>en</td>\n      <td>Toy Story</td>\n      <td>Led by Woody, Andy's toys live happily in his room until Andy's birthda...</td>\n      <td>...</td>\n      <td>1995-10-30</td>\n      <td>373554033.0</td>\n      <td>81.0</td>\n      <td>[{'iso_639_1': 'en', 'name': 'English'}]</td>\n      <td>Released</td>\n      <td>NaN</td>\n      <td>Toy Story</td>\n      <td>False</td>\n      <td>7.7</td>\n      <td>5415.0</td>\n    </tr>\n    <tr>\n      <th>1</th>\n      <td>False</td>\n      <td>NaN</td>\n      <td>65000000</td>\n      <td>[{'id': 12, 'name': 'Adventure'}, {'id': 14, 'name': 'Fantasy'}, {'id':...</td>\n      <td>NaN</td>\n      <td>8844</td>\n      <td>tt0113497</td>\n      <td>en</td>\n      <td>Jumanji</td>\n      <td>When siblings Judy and Peter discover an enchanted board game that open...</td>\n      <td>...</td>\n      <td>1995-12-15</td>\n      <td>262797249.0</td>\n      <td>104.0</td>\n      <td>[{'iso_639_1': 'en', 'name': 'English'}, {'iso_639_1': 'fr', 'name': 'F...</td>\n      <td>Released</td>\n      <td>Roll the dice and unleash the excitement!</td>\n      <td>Jumanji</td>\n      <td>False</td>\n      <td>6.9</td>\n      <td>2413.0</td>\n    </tr>\n    <tr>\n      <th>2</th>\n      <td>False</td>\n      <td>{'id': 119050, 'name': 'Grumpy Old Men Collection', 'poster_path': '/nL...</td>\n      <td>0</td>\n      <td>[{'id': 10749, 'name': 'Romance'}, {'id': 35, 'name': 'Comedy'}]</td>\n      <td>NaN</td>\n      <td>15602</td>\n      <td>tt0113228</td>\n      <td>en</td>\n      <td>Grumpier Old Men</td>\n      <td>A family wedding reignites the ancient feud between next-door neighbors...</td>\n      <td>...</td>\n      <td>1995-12-22</td>\n      <td>0.0</td>\n      <td>101.0</td>\n      <td>[{'iso_639_1': 'en', 'name': 'English'}]</td>\n      <td>Released</td>\n      <td>Still Yelling. Still Fighting. Still Ready for Love.</td>\n      <td>Grumpier Old Men</td>\n      <td>False</td>\n      <td>6.5</td>\n      <td>92.0</td>\n    </tr>\n    <tr>\n      <th>3</th>\n      <td>False</td>\n      <td>NaN</td>\n      <td>16000000</td>\n      <td>[{'id': 35, 'name': 'Comedy'}, {'id': 18, 'name': 'Drama'}, {'id': 1074...</td>\n      <td>NaN</td>\n      <td>31357</td>\n      <td>tt0114885</td>\n      <td>en</td>\n      <td>Waiting to Exhale</td>\n      <td>Cheated on, mistreated and stepped on, the women are holding their brea...</td>\n      <td>...</td>\n      <td>1995-12-22</td>\n      <td>81452156.0</td>\n      <td>127.0</td>\n      <td>[{'iso_639_1': 'en', 'name': 'English'}]</td>\n      <td>Released</td>\n      <td>Friends are the people who let you be yourself... and never let you for...</td>\n      <td>Waiting to Exhale</td>\n      <td>False</td>\n      <td>6.1</td>\n      <td>34.0</td>\n    </tr>\n    <tr>\n      <th>4</th>\n      <td>False</td>\n      <td>{'id': 96871, 'name': 'Father of the Bride Collection', 'poster_path': ...</td>\n      <td>0</td>\n      <td>[{'id': 35, 'name': 'Comedy'}]</td>\n      <td>NaN</td>\n      <td>11862</td>\n      <td>tt0113041</td>\n      <td>en</td>\n      <td>Father of the Bride Part II</td>\n      <td>Just when George Banks has recovered from his daughter's wedding, he re...</td>\n      <td>...</td>\n      <td>1995-02-10</td>\n      <td>76578911.0</td>\n      <td>106.0</td>\n      <td>[{'iso_639_1': 'en', 'name': 'English'}]</td>\n      <td>Released</td>\n      <td>Just When His World Is Back To Normal... He's In For The Surprise Of Hi...</td>\n      <td>Father of the Bride Part II</td>\n      <td>False</td>\n      <td>5.7</td>\n      <td>173.0</td>\n    </tr>\n  </tbody>\n</table>\n<p>5 rows × 24 columns</p>\n</div>"
     },
     "metadata": {},
     "execution_count": 164
    }
   ],
   "source": [
    "meta_data = pd.read_csv('movies_metadata.csv')\n",
    "meta_data.head()"
   ]
  },
  {
   "cell_type": "code",
   "execution_count": 165,
   "metadata": {},
   "outputs": [],
   "source": [
    "meta_data['release_date'] = pd.to_datetime(meta_data['release_date'], errors='coerce')\n"
   ]
  },
  {
   "cell_type": "code",
   "execution_count": 166,
   "metadata": {},
   "outputs": [],
   "source": [
    "meta_data['year'] = meta_data['release_date'].dt.year"
   ]
  },
  {
   "cell_type": "code",
   "execution_count": 167,
   "metadata": {},
   "outputs": [
    {
     "output_type": "execute_result",
     "data": {
      "text/plain": [
       "1874.0       1\n",
       "1878.0       1\n",
       "1883.0       1\n",
       "1887.0       1\n",
       "1888.0       2\n",
       "          ... \n",
       "2015.0    1905\n",
       "2016.0    1604\n",
       "2017.0     532\n",
       "2018.0       5\n",
       "2020.0       1\n",
       "Name: year, Length: 135, dtype: int64"
      ]
     },
     "metadata": {},
     "execution_count": 167
    }
   ],
   "source": [
    "meta_data['year'].value_counts().sort_index()"
   ]
  },
  {
   "cell_type": "code",
   "execution_count": 168,
   "metadata": {},
   "outputs": [
    {
     "output_type": "execute_result",
     "data": {
      "text/plain": [
       "                                                                           genres  \\\n",
       "26560  [{'id': 12, 'name': 'Adventure'}, {'id': 28, 'name': 'Action'}, {'id': ...   \n",
       "26561  [{'id': 28, 'name': 'Action'}, {'id': 12, 'name': 'Adventure'}, {'id': ...   \n",
       "26565  [{'id': 28, 'name': 'Action'}, {'id': 12, 'name': 'Adventure'}, {'id': ...   \n",
       "26566  [{'id': 28, 'name': 'Action'}, {'id': 12, 'name': 'Adventure'}, {'id': ...   \n",
       "30536  [{'id': 14, 'name': 'Fantasy'}, {'id': 28, 'name': 'Action'}, {'id': 12...   \n",
       "\n",
       "           id                                             title    year  \n",
       "26560  166426  Pirates of the Caribbean: Dead Men Tell No Tales  2017.0  \n",
       "26561  141052                                    Justice League  2017.0  \n",
       "26565  284053                                    Thor: Ragnarok  2017.0  \n",
       "26566  283995                    Guardians of the Galaxy Vol. 2  2017.0  \n",
       "30536  245842                               The King's Daughter  2017.0  "
      ],
      "text/html": "<div>\n<style scoped>\n    .dataframe tbody tr th:only-of-type {\n        vertical-align: middle;\n    }\n\n    .dataframe tbody tr th {\n        vertical-align: top;\n    }\n\n    .dataframe thead th {\n        text-align: right;\n    }\n</style>\n<table border=\"1\" class=\"dataframe\">\n  <thead>\n    <tr style=\"text-align: right;\">\n      <th></th>\n      <th>genres</th>\n      <th>id</th>\n      <th>title</th>\n      <th>year</th>\n    </tr>\n  </thead>\n  <tbody>\n    <tr>\n      <th>26560</th>\n      <td>[{'id': 12, 'name': 'Adventure'}, {'id': 28, 'name': 'Action'}, {'id': ...</td>\n      <td>166426</td>\n      <td>Pirates of the Caribbean: Dead Men Tell No Tales</td>\n      <td>2017.0</td>\n    </tr>\n    <tr>\n      <th>26561</th>\n      <td>[{'id': 28, 'name': 'Action'}, {'id': 12, 'name': 'Adventure'}, {'id': ...</td>\n      <td>141052</td>\n      <td>Justice League</td>\n      <td>2017.0</td>\n    </tr>\n    <tr>\n      <th>26565</th>\n      <td>[{'id': 28, 'name': 'Action'}, {'id': 12, 'name': 'Adventure'}, {'id': ...</td>\n      <td>284053</td>\n      <td>Thor: Ragnarok</td>\n      <td>2017.0</td>\n    </tr>\n    <tr>\n      <th>26566</th>\n      <td>[{'id': 28, 'name': 'Action'}, {'id': 12, 'name': 'Adventure'}, {'id': ...</td>\n      <td>283995</td>\n      <td>Guardians of the Galaxy Vol. 2</td>\n      <td>2017.0</td>\n    </tr>\n    <tr>\n      <th>30536</th>\n      <td>[{'id': 14, 'name': 'Fantasy'}, {'id': 28, 'name': 'Action'}, {'id': 12...</td>\n      <td>245842</td>\n      <td>The King's Daughter</td>\n      <td>2017.0</td>\n    </tr>\n  </tbody>\n</table>\n</div>"
     },
     "metadata": {},
     "execution_count": 168
    }
   ],
   "source": [
    "# Taking only 2017 movies as we as data upto uptil here from Pre_processing_1\n",
    "\n",
    "new_meta_data = meta_data.loc[meta_data.year == 2017, ['genres','id','title','year']]\n",
    "\n",
    "new_meta_data.head()"
   ]
  },
  {
   "cell_type": "code",
   "execution_count": 169,
   "metadata": {},
   "outputs": [],
   "source": [
    "new_meta_data['id'] = new_meta_data['id'].astype(int)"
   ]
  },
  {
   "cell_type": "code",
   "execution_count": 170,
   "metadata": {},
   "outputs": [],
   "source": [
    "df1 = pd.merge(new_meta_data, credits, on='id')"
   ]
  },
  {
   "cell_type": "code",
   "execution_count": 171,
   "metadata": {},
   "outputs": [
    {
     "output_type": "execute_result",
     "data": {
      "text/plain": [
       "                                                                       genres  \\\n",
       "0  [{'id': 12, 'name': 'Adventure'}, {'id': 28, 'name': 'Action'}, {'id': ...   \n",
       "1  [{'id': 28, 'name': 'Action'}, {'id': 12, 'name': 'Adventure'}, {'id': ...   \n",
       "2  [{'id': 28, 'name': 'Action'}, {'id': 12, 'name': 'Adventure'}, {'id': ...   \n",
       "3  [{'id': 28, 'name': 'Action'}, {'id': 12, 'name': 'Adventure'}, {'id': ...   \n",
       "4  [{'id': 14, 'name': 'Fantasy'}, {'id': 28, 'name': 'Action'}, {'id': 12...   \n",
       "\n",
       "       id                                             title    year  \\\n",
       "0  166426  Pirates of the Caribbean: Dead Men Tell No Tales  2017.0   \n",
       "1  141052                                    Justice League  2017.0   \n",
       "2  284053                                    Thor: Ragnarok  2017.0   \n",
       "3  283995                    Guardians of the Galaxy Vol. 2  2017.0   \n",
       "4  245842                               The King's Daughter  2017.0   \n",
       "\n",
       "                                                                         cast  \\\n",
       "0  [{'cast_id': 1, 'character': 'Captain Jack Sparrow', 'credit_id': '52fe...   \n",
       "1  [{'cast_id': 2, 'character': 'Bruce Wayne / Batman', 'credit_id': '535e...   \n",
       "2  [{'cast_id': 0, 'character': 'Thor Odinson', 'credit_id': '545d46a80e0a...   \n",
       "3  [{'cast_id': 3, 'character': 'Peter Quill / Star-Lord', 'credit_id': '5...   \n",
       "4  [{'cast_id': 0, 'character': 'King Louis XIV', 'credit_id': '5431dd580e...   \n",
       "\n",
       "                                                                         crew  \n",
       "0  [{'credit_id': '52fe4c9cc3a36847f8236a65', 'department': 'Production', ...  \n",
       "1  [{'credit_id': '55ef66dbc3a3686f1700a52d', 'department': 'Production', ...  \n",
       "2  [{'credit_id': '56a93fa4c3a36872db001e7a', 'department': 'Writing', 'ge...  \n",
       "3  [{'credit_id': '59171547925141583c0315a6', 'department': 'Sound', 'gend...  \n",
       "4  [{'credit_id': '5431de49c3a36825d300007e', 'department': 'Directing', '...  "
      ],
      "text/html": "<div>\n<style scoped>\n    .dataframe tbody tr th:only-of-type {\n        vertical-align: middle;\n    }\n\n    .dataframe tbody tr th {\n        vertical-align: top;\n    }\n\n    .dataframe thead th {\n        text-align: right;\n    }\n</style>\n<table border=\"1\" class=\"dataframe\">\n  <thead>\n    <tr style=\"text-align: right;\">\n      <th></th>\n      <th>genres</th>\n      <th>id</th>\n      <th>title</th>\n      <th>year</th>\n      <th>cast</th>\n      <th>crew</th>\n    </tr>\n  </thead>\n  <tbody>\n    <tr>\n      <th>0</th>\n      <td>[{'id': 12, 'name': 'Adventure'}, {'id': 28, 'name': 'Action'}, {'id': ...</td>\n      <td>166426</td>\n      <td>Pirates of the Caribbean: Dead Men Tell No Tales</td>\n      <td>2017.0</td>\n      <td>[{'cast_id': 1, 'character': 'Captain Jack Sparrow', 'credit_id': '52fe...</td>\n      <td>[{'credit_id': '52fe4c9cc3a36847f8236a65', 'department': 'Production', ...</td>\n    </tr>\n    <tr>\n      <th>1</th>\n      <td>[{'id': 28, 'name': 'Action'}, {'id': 12, 'name': 'Adventure'}, {'id': ...</td>\n      <td>141052</td>\n      <td>Justice League</td>\n      <td>2017.0</td>\n      <td>[{'cast_id': 2, 'character': 'Bruce Wayne / Batman', 'credit_id': '535e...</td>\n      <td>[{'credit_id': '55ef66dbc3a3686f1700a52d', 'department': 'Production', ...</td>\n    </tr>\n    <tr>\n      <th>2</th>\n      <td>[{'id': 28, 'name': 'Action'}, {'id': 12, 'name': 'Adventure'}, {'id': ...</td>\n      <td>284053</td>\n      <td>Thor: Ragnarok</td>\n      <td>2017.0</td>\n      <td>[{'cast_id': 0, 'character': 'Thor Odinson', 'credit_id': '545d46a80e0a...</td>\n      <td>[{'credit_id': '56a93fa4c3a36872db001e7a', 'department': 'Writing', 'ge...</td>\n    </tr>\n    <tr>\n      <th>3</th>\n      <td>[{'id': 28, 'name': 'Action'}, {'id': 12, 'name': 'Adventure'}, {'id': ...</td>\n      <td>283995</td>\n      <td>Guardians of the Galaxy Vol. 2</td>\n      <td>2017.0</td>\n      <td>[{'cast_id': 3, 'character': 'Peter Quill / Star-Lord', 'credit_id': '5...</td>\n      <td>[{'credit_id': '59171547925141583c0315a6', 'department': 'Sound', 'gend...</td>\n    </tr>\n    <tr>\n      <th>4</th>\n      <td>[{'id': 14, 'name': 'Fantasy'}, {'id': 28, 'name': 'Action'}, {'id': 12...</td>\n      <td>245842</td>\n      <td>The King's Daughter</td>\n      <td>2017.0</td>\n      <td>[{'cast_id': 0, 'character': 'King Louis XIV', 'credit_id': '5431dd580e...</td>\n      <td>[{'credit_id': '5431de49c3a36825d300007e', 'department': 'Directing', '...</td>\n    </tr>\n  </tbody>\n</table>\n</div>"
     },
     "metadata": {},
     "execution_count": 171
    }
   ],
   "source": [
    "pd.set_option('display.max_colwidth', 75)\n",
    "df1.head()"
   ]
  },
  {
   "cell_type": "code",
   "execution_count": 172,
   "metadata": {},
   "outputs": [],
   "source": [
    "# evaluates an expression node or a string containing a Python literal or container display\n",
    "import ast\n",
    "df1['genres'] = df1['genres'].map(lambda x: ast.literal_eval(x))\n",
    "df1['cast'] = df1['cast'].map(lambda x: ast.literal_eval(x))\n",
    "df1['crew'] = df1['crew'].map(lambda x: ast.literal_eval(x))"
   ]
  },
  {
   "cell_type": "code",
   "execution_count": 173,
   "metadata": {},
   "outputs": [],
   "source": [
    "def get_genres(x):\n",
    "    genre = []\n",
    "    string = \" \"\n",
    "    for i in x:\n",
    "        if i['name'] == 'Science Fiction':\n",
    "            scifi = 'Sci-Fi'\n",
    "            genre.append(scifi)\n",
    "        else:\n",
    "            genre.append(i['name'])\n",
    "    if genre == []:\n",
    "        return np.NaN\n",
    "    else:\n",
    "        return (string.join(genre))"
   ]
  },
  {
   "cell_type": "code",
   "execution_count": 174,
   "metadata": {},
   "outputs": [],
   "source": [
    "df1['genres_list'] = df1['genres'].map(lambda x: get_genres(x))"
   ]
  },
  {
   "cell_type": "code",
   "execution_count": 175,
   "metadata": {},
   "outputs": [
    {
     "output_type": "execute_result",
     "data": {
      "text/plain": [
       "0      Adventure Action Fantasy Comedy\n",
       "1      Action Adventure Fantasy Sci-Fi\n",
       "2      Action Adventure Fantasy Sci-Fi\n",
       "3       Action Adventure Comedy Sci-Fi\n",
       "4             Fantasy Action Adventure\n",
       "                    ...               \n",
       "526                     Romance Comedy\n",
       "527         Crime Comedy Action Family\n",
       "528    Family Animation Romance Comedy\n",
       "529               Crime Drama Thriller\n",
       "530                                NaN\n",
       "Name: genres_list, Length: 531, dtype: object"
      ]
     },
     "metadata": {},
     "execution_count": 175
    }
   ],
   "source": [
    "df1['genres_list']"
   ]
  },
  {
   "cell_type": "code",
   "execution_count": 176,
   "metadata": {},
   "outputs": [],
   "source": [
    "def get_actor_1(x):\n",
    "    casts = []\n",
    "    for i in x:\n",
    "        casts.append(i['name'])\n",
    "    if casts == []:\n",
    "        return np.NaN\n",
    "    else:\n",
    "        return (casts[0])"
   ]
  },
  {
   "cell_type": "code",
   "execution_count": 177,
   "metadata": {},
   "outputs": [
    {
     "output_type": "execute_result",
     "data": {
      "text/plain": [
       "0               Johnny Depp\n",
       "1               Ben Affleck\n",
       "2           Chris Hemsworth\n",
       "3               Chris Pratt\n",
       "4            Pierce Brosnan\n",
       "               ...         \n",
       "526          Inka Haapamäki\n",
       "527    Lou Diamond Phillips\n",
       "528                     NaN\n",
       "529          Sridevi Kapoor\n",
       "530                     NaN\n",
       "Name: actor_1_name, Length: 531, dtype: object"
      ]
     },
     "metadata": {},
     "execution_count": 177
    }
   ],
   "source": [
    "df1['actor_1_name'] = df1['cast'].map(lambda x: get_actor_1(x))\n",
    "\n",
    "\n",
    "df1['actor_1_name']"
   ]
  },
  {
   "cell_type": "code",
   "execution_count": 178,
   "metadata": {},
   "outputs": [],
   "source": [
    "def get_actor_2(x):\n",
    "    casts = []\n",
    "    for i in x:\n",
    "        casts.append(i['name'])\n",
    "    if casts == [] or len(casts)<=1:\n",
    "        return np.NaN\n",
    "    else:\n",
    "        return (casts[1])"
   ]
  },
  {
   "cell_type": "code",
   "execution_count": 179,
   "metadata": {},
   "outputs": [
    {
     "output_type": "execute_result",
     "data": {
      "text/plain": [
       "0       Javier Bardem\n",
       "1        Henry Cavill\n",
       "2      Tom Hiddleston\n",
       "3         Zoe Saldana\n",
       "4        William Hurt\n",
       "            ...      \n",
       "526     Rosa Honkonen\n",
       "527     Wallace Shawn\n",
       "528               NaN\n",
       "529         Sajal Ali\n",
       "530               NaN\n",
       "Name: actor_2_name, Length: 531, dtype: object"
      ]
     },
     "metadata": {},
     "execution_count": 179
    }
   ],
   "source": [
    "df1['actor_2_name'] = df1['cast'].map(lambda x: get_actor_2(x))\n",
    "\n",
    "\n",
    "df1['actor_2_name']"
   ]
  },
  {
   "cell_type": "code",
   "execution_count": 180,
   "metadata": {},
   "outputs": [],
   "source": [
    "def get_actor_3(x):\n",
    "    casts = []\n",
    "    for i in x:\n",
    "        casts.append(i.get('name'))\n",
    "    if casts == [] or len(casts)<=2:\n",
    "        return np.NaN\n",
    "    else:\n",
    "        return (casts[2])"
   ]
  },
  {
   "cell_type": "code",
   "execution_count": 181,
   "metadata": {},
   "outputs": [
    {
     "output_type": "execute_result",
     "data": {
      "text/plain": [
       "0        Geoffrey Rush\n",
       "1            Gal Gadot\n",
       "2       Cate Blanchett\n",
       "3        Dave Bautista\n",
       "4      Benjamin Walker\n",
       "            ...       \n",
       "526     Tiitus Rantala\n",
       "527        Gina Holden\n",
       "528                NaN\n",
       "529     Akshaye Khanna\n",
       "530                NaN\n",
       "Name: actor_3_name, Length: 531, dtype: object"
      ]
     },
     "metadata": {},
     "execution_count": 181
    }
   ],
   "source": [
    "df1['actor_3_name'] = df1['cast'].map(lambda x: get_actor_3(x))\n",
    "\n",
    "\n",
    "df1['actor_3_name']"
   ]
  },
  {
   "cell_type": "code",
   "execution_count": 182,
   "metadata": {},
   "outputs": [],
   "source": [
    "def get_directors(x):\n",
    "    directors = []\n",
    "    string = \" \"\n",
    "    for i in x:\n",
    "        if i['job'] == 'Director':\n",
    "            directors.append(i['name'])\n",
    "    if directors == []:\n",
    "        return np.NaN\n",
    "    else:\n",
    "        return (string.join(directors))"
   ]
  },
  {
   "cell_type": "code",
   "execution_count": 183,
   "metadata": {},
   "outputs": [
    {
     "output_type": "execute_result",
     "data": {
      "text/plain": [
       "0      Joachim Rønning Espen Sandberg\n",
       "1                         Zack Snyder\n",
       "2                       Taika Waititi\n",
       "3                          James Gunn\n",
       "4                       Sean McNamara\n",
       "                    ...              \n",
       "526                  Hannaleena Hauru\n",
       "527             Jonathan A. Rosenbaum\n",
       "528          Beth David Esteban Bravo\n",
       "529                      Ravi Udyawar\n",
       "530                     Daisy Asquith\n",
       "Name: director_name, Length: 531, dtype: object"
      ]
     },
     "metadata": {},
     "execution_count": 183
    }
   ],
   "source": [
    "df1['director_name'] = df1['crew'].map(lambda x: get_directors(x))\n",
    "\n",
    "\n",
    "df1['director_name']"
   ]
  },
  {
   "cell_type": "code",
   "execution_count": 184,
   "metadata": {},
   "outputs": [
    {
     "output_type": "execute_result",
     "data": {
      "text/plain": [
       "                    director_name     actor_1_name    actor_2_name  \\\n",
       "0  Joachim Rønning Espen Sandberg      Johnny Depp   Javier Bardem   \n",
       "1                     Zack Snyder      Ben Affleck    Henry Cavill   \n",
       "2                   Taika Waititi  Chris Hemsworth  Tom Hiddleston   \n",
       "3                      James Gunn      Chris Pratt     Zoe Saldana   \n",
       "4                   Sean McNamara   Pierce Brosnan    William Hurt   \n",
       "\n",
       "      actor_3_name                      genres_list  \\\n",
       "0    Geoffrey Rush  Adventure Action Fantasy Comedy   \n",
       "1        Gal Gadot  Action Adventure Fantasy Sci-Fi   \n",
       "2   Cate Blanchett  Action Adventure Fantasy Sci-Fi   \n",
       "3    Dave Bautista   Action Adventure Comedy Sci-Fi   \n",
       "4  Benjamin Walker         Fantasy Action Adventure   \n",
       "\n",
       "                                              title  \n",
       "0  Pirates of the Caribbean: Dead Men Tell No Tales  \n",
       "1                                    Justice League  \n",
       "2                                    Thor: Ragnarok  \n",
       "3                    Guardians of the Galaxy Vol. 2  \n",
       "4                               The King's Daughter  "
      ],
      "text/html": "<div>\n<style scoped>\n    .dataframe tbody tr th:only-of-type {\n        vertical-align: middle;\n    }\n\n    .dataframe tbody tr th {\n        vertical-align: top;\n    }\n\n    .dataframe thead th {\n        text-align: right;\n    }\n</style>\n<table border=\"1\" class=\"dataframe\">\n  <thead>\n    <tr style=\"text-align: right;\">\n      <th></th>\n      <th>director_name</th>\n      <th>actor_1_name</th>\n      <th>actor_2_name</th>\n      <th>actor_3_name</th>\n      <th>genres_list</th>\n      <th>title</th>\n    </tr>\n  </thead>\n  <tbody>\n    <tr>\n      <th>0</th>\n      <td>Joachim Rønning Espen Sandberg</td>\n      <td>Johnny Depp</td>\n      <td>Javier Bardem</td>\n      <td>Geoffrey Rush</td>\n      <td>Adventure Action Fantasy Comedy</td>\n      <td>Pirates of the Caribbean: Dead Men Tell No Tales</td>\n    </tr>\n    <tr>\n      <th>1</th>\n      <td>Zack Snyder</td>\n      <td>Ben Affleck</td>\n      <td>Henry Cavill</td>\n      <td>Gal Gadot</td>\n      <td>Action Adventure Fantasy Sci-Fi</td>\n      <td>Justice League</td>\n    </tr>\n    <tr>\n      <th>2</th>\n      <td>Taika Waititi</td>\n      <td>Chris Hemsworth</td>\n      <td>Tom Hiddleston</td>\n      <td>Cate Blanchett</td>\n      <td>Action Adventure Fantasy Sci-Fi</td>\n      <td>Thor: Ragnarok</td>\n    </tr>\n    <tr>\n      <th>3</th>\n      <td>James Gunn</td>\n      <td>Chris Pratt</td>\n      <td>Zoe Saldana</td>\n      <td>Dave Bautista</td>\n      <td>Action Adventure Comedy Sci-Fi</td>\n      <td>Guardians of the Galaxy Vol. 2</td>\n    </tr>\n    <tr>\n      <th>4</th>\n      <td>Sean McNamara</td>\n      <td>Pierce Brosnan</td>\n      <td>William Hurt</td>\n      <td>Benjamin Walker</td>\n      <td>Fantasy Action Adventure</td>\n      <td>The King's Daughter</td>\n    </tr>\n  </tbody>\n</table>\n</div>"
     },
     "metadata": {},
     "execution_count": 184
    }
   ],
   "source": [
    "df2 = df1.loc[:, ['director_name','actor_1_name','actor_2_name','actor_3_name','genres_list','title']]\n",
    "\n",
    "\n",
    "df2.head()"
   ]
  },
  {
   "cell_type": "code",
   "execution_count": 185,
   "metadata": {},
   "outputs": [
    {
     "output_type": "execute_result",
     "data": {
      "text/plain": [
       "director_name     4\n",
       "actor_1_name     22\n",
       "actor_2_name     55\n",
       "actor_3_name     70\n",
       "genres_list       7\n",
       "title             0\n",
       "dtype: int64"
      ]
     },
     "metadata": {},
     "execution_count": 185
    }
   ],
   "source": [
    "df2.isna().sum()"
   ]
  },
  {
   "cell_type": "code",
   "execution_count": 188,
   "metadata": {},
   "outputs": [
    {
     "output_type": "execute_result",
     "data": {
      "text/plain": [
       "director_name    0\n",
       "actor_1_name     0\n",
       "actor_2_name     0\n",
       "actor_3_name     0\n",
       "genres_list      0\n",
       "title            0\n",
       "dtype: int64"
      ]
     },
     "metadata": {},
     "execution_count": 188
    }
   ],
   "source": [
    "df2 = df2.dropna()\n",
    "\n",
    "df2.isna().sum()"
   ]
  },
  {
   "cell_type": "code",
   "execution_count": 190,
   "metadata": {},
   "outputs": [],
   "source": [
    "# Some modification in names of features\n",
    "df2 = df2.rename(columns={'genres_list':'genres'})\n",
    "df2 = df2.rename(columns={'title':'movie_title'})\n",
    "df2['movie_title'] = df2['movie_title'].str.lower()"
   ]
  },
  {
   "cell_type": "code",
   "execution_count": 193,
   "metadata": {},
   "outputs": [
    {
     "output_type": "execute_result",
     "data": {
      "text/plain": [
       "                    director_name     actor_1_name    actor_2_name  \\\n",
       "0  Joachim Rønning Espen Sandberg      Johnny Depp   Javier Bardem   \n",
       "1                     Zack Snyder      Ben Affleck    Henry Cavill   \n",
       "2                   Taika Waititi  Chris Hemsworth  Tom Hiddleston   \n",
       "3                      James Gunn      Chris Pratt     Zoe Saldana   \n",
       "4                   Sean McNamara   Pierce Brosnan    William Hurt   \n",
       "\n",
       "      actor_3_name                           genres  \\\n",
       "0    Geoffrey Rush  Adventure Action Fantasy Comedy   \n",
       "1        Gal Gadot  Action Adventure Fantasy Sci-Fi   \n",
       "2   Cate Blanchett  Action Adventure Fantasy Sci-Fi   \n",
       "3    Dave Bautista   Action Adventure Comedy Sci-Fi   \n",
       "4  Benjamin Walker         Fantasy Action Adventure   \n",
       "\n",
       "                                        movie_title  \\\n",
       "0  pirates of the caribbean: dead men tell no tales   \n",
       "1                                    justice league   \n",
       "2                                    thor: ragnarok   \n",
       "3                    guardians of the galaxy vol. 2   \n",
       "4                               the king's daughter   \n",
       "\n",
       "                                                                         comb  \n",
       "0  Johnny Depp Javier Bardem Geoffrey Rush Joachim Rønning Espen Sandberg ...  \n",
       "1  Ben Affleck Henry Cavill Gal Gadot Zack Snyder Action Adventure Fantasy...  \n",
       "2  Chris Hemsworth Tom Hiddleston Cate Blanchett Taika Waititi Action Adve...  \n",
       "3  Chris Pratt Zoe Saldana Dave Bautista James Gunn Action Adventure Comed...  \n",
       "4  Pierce Brosnan William Hurt Benjamin Walker Sean McNamara Fantasy Actio...  "
      ],
      "text/html": "<div>\n<style scoped>\n    .dataframe tbody tr th:only-of-type {\n        vertical-align: middle;\n    }\n\n    .dataframe tbody tr th {\n        vertical-align: top;\n    }\n\n    .dataframe thead th {\n        text-align: right;\n    }\n</style>\n<table border=\"1\" class=\"dataframe\">\n  <thead>\n    <tr style=\"text-align: right;\">\n      <th></th>\n      <th>director_name</th>\n      <th>actor_1_name</th>\n      <th>actor_2_name</th>\n      <th>actor_3_name</th>\n      <th>genres</th>\n      <th>movie_title</th>\n      <th>comb</th>\n    </tr>\n  </thead>\n  <tbody>\n    <tr>\n      <th>0</th>\n      <td>Joachim Rønning Espen Sandberg</td>\n      <td>Johnny Depp</td>\n      <td>Javier Bardem</td>\n      <td>Geoffrey Rush</td>\n      <td>Adventure Action Fantasy Comedy</td>\n      <td>pirates of the caribbean: dead men tell no tales</td>\n      <td>Johnny Depp Javier Bardem Geoffrey Rush Joachim Rønning Espen Sandberg ...</td>\n    </tr>\n    <tr>\n      <th>1</th>\n      <td>Zack Snyder</td>\n      <td>Ben Affleck</td>\n      <td>Henry Cavill</td>\n      <td>Gal Gadot</td>\n      <td>Action Adventure Fantasy Sci-Fi</td>\n      <td>justice league</td>\n      <td>Ben Affleck Henry Cavill Gal Gadot Zack Snyder Action Adventure Fantasy...</td>\n    </tr>\n    <tr>\n      <th>2</th>\n      <td>Taika Waititi</td>\n      <td>Chris Hemsworth</td>\n      <td>Tom Hiddleston</td>\n      <td>Cate Blanchett</td>\n      <td>Action Adventure Fantasy Sci-Fi</td>\n      <td>thor: ragnarok</td>\n      <td>Chris Hemsworth Tom Hiddleston Cate Blanchett Taika Waititi Action Adve...</td>\n    </tr>\n    <tr>\n      <th>3</th>\n      <td>James Gunn</td>\n      <td>Chris Pratt</td>\n      <td>Zoe Saldana</td>\n      <td>Dave Bautista</td>\n      <td>Action Adventure Comedy Sci-Fi</td>\n      <td>guardians of the galaxy vol. 2</td>\n      <td>Chris Pratt Zoe Saldana Dave Bautista James Gunn Action Adventure Comed...</td>\n    </tr>\n    <tr>\n      <th>4</th>\n      <td>Sean McNamara</td>\n      <td>Pierce Brosnan</td>\n      <td>William Hurt</td>\n      <td>Benjamin Walker</td>\n      <td>Fantasy Action Adventure</td>\n      <td>the king's daughter</td>\n      <td>Pierce Brosnan William Hurt Benjamin Walker Sean McNamara Fantasy Actio...</td>\n    </tr>\n  </tbody>\n</table>\n</div>"
     },
     "metadata": {},
     "execution_count": 193
    }
   ],
   "source": [
    "df2['comb'] = df2['actor_1_name'] + ' ' + df2['actor_2_name'] + ' '+ df2['actor_3_name'] + ' '+ df2['director_name'] +' ' + df2['genres']\n",
    "\n",
    "df2.head()"
   ]
  },
  {
   "cell_type": "code",
   "execution_count": null,
   "metadata": {},
   "outputs": [],
   "source": [
    "df2.to_csv('data_2.csv', index=False)"
   ]
  }
 ]
}